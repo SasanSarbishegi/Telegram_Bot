{
  "nbformat": 4,
  "nbformat_minor": 0,
  "metadata": {
    "colab": {
      "provenance": []
    },
    "kernelspec": {
      "name": "python3",
      "display_name": "Python 3"
    },
    "language_info": {
      "name": "python"
    }
  },
  "cells": [
    {
      "cell_type": "code",
      "execution_count": null,
      "metadata": {
        "collapsed": true,
        "id": "tWYN13lGV3Lg"
      },
      "outputs": [],
      "source": [
        "!pip install python-telegram-bot==13.7 requests yt-dlp"
      ]
    },
    {
      "cell_type": "code",
      "source": [
        "from telegram.ext import Updater, CommandHandler , MessageHandler, Filters\n",
        "import yt_dlp\n",
        "import os\n",
        "\n",
        "Token = \"\" # Telegram bot Token\n",
        "\n",
        "\n",
        "def start(update , context):\n",
        "  update.message.reply_text(\"Send your video's YouTube link.\")\n",
        "\n",
        "def send_video(update, video_path):\n",
        "    if os.path.exists(video_path):\n",
        "        with open(video_path, 'rb') as video_file:\n",
        "            update.message.reply_video(video_file)  # Send the video file\n",
        "    else:\n",
        "        update.message.reply_text(\"Error: Video file not found!\")\n",
        "    print(\"Sent!\")\n",
        "\n",
        "def download_video(update , context):\n",
        "    url = update.message.text.strip()\n",
        "    if \"youtu.be\" not in url:\n",
        "        update.message.reply_text(\"Please send a valid YouTube link.\")\n",
        "        return\n",
        "\n",
        "    if not os.path.exists('downloads'):\n",
        "        os.makedirs('downloads')\n",
        "\n",
        "    try:\n",
        "        ydl_opts = {\n",
        "            'format': 'best',\n",
        "            'outtmpl': 'downloads/%(id)s.%(ext)s',\n",
        "        }\n",
        "        with yt_dlp.YoutubeDL(ydl_opts) as ydl:\n",
        "            ydl.download([url])\n",
        "\n",
        "        info_dict = ydl.extract_info(url, download=False)\n",
        "        video_path = ydl.prepare_filename(info_dict)\n",
        "\n",
        "        send_video(update, video_path)\n",
        "\n",
        "        return f\"Download complete! File saved as '{video_path}'.\"\n",
        "    except Exception as e:\n",
        "        return f\"An error occurred: {e}\"\n",
        "\n",
        "\n",
        "\n",
        "updater = Updater(Token, use_context=True)\n",
        "dispatch = updater.dispatcher\n",
        "\n",
        "dispatch.add_handler(CommandHandler(\"start\" , start))\n",
        "\n",
        "dispatch.add_handler(MessageHandler(Filters.text , download_video))\n",
        "\n",
        "\n",
        "updater.start_polling()\n",
        "updater.idle()"
      ],
      "metadata": {
        "id": "4CVO1LoIWIIb"
      },
      "execution_count": null,
      "outputs": []
    }
  ]
}